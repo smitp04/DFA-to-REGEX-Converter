{
  "cells": [
    {
      "cell_type": "code",
      "execution_count": 1,
      "metadata": {
        "id": "qQqHwJ7FNY23"
      },
      "outputs": [
        {
          "name": "stdout",
          "output_type": "stream",
          "text": [
            "Requirement already satisfied: streamlit in /Users/smit/anaconda3/lib/python3.11/site-packages (1.29.0)\n",
            "Requirement already satisfied: altair<6,>=4.0 in /Users/smit/anaconda3/lib/python3.11/site-packages (from streamlit) (5.2.0)\n",
            "Requirement already satisfied: blinker<2,>=1.0.0 in /Users/smit/anaconda3/lib/python3.11/site-packages (from streamlit) (1.7.0)\n",
            "Requirement already satisfied: cachetools<6,>=4.0 in /Users/smit/anaconda3/lib/python3.11/site-packages (from streamlit) (5.3.2)\n",
            "Requirement already satisfied: click<9,>=7.0 in /Users/smit/anaconda3/lib/python3.11/site-packages (from streamlit) (8.0.4)\n",
            "Requirement already satisfied: importlib-metadata<7,>=1.4 in /Users/smit/anaconda3/lib/python3.11/site-packages (from streamlit) (6.0.0)\n",
            "Requirement already satisfied: numpy<2,>=1.19.3 in /Users/smit/anaconda3/lib/python3.11/site-packages (from streamlit) (1.24.3)\n",
            "Requirement already satisfied: packaging<24,>=16.8 in /Users/smit/anaconda3/lib/python3.11/site-packages (from streamlit) (23.2)\n",
            "Requirement already satisfied: pandas<3,>=1.3.0 in /Users/smit/anaconda3/lib/python3.11/site-packages (from streamlit) (1.5.3)\n",
            "Requirement already satisfied: pillow<11,>=7.1.0 in /Users/smit/anaconda3/lib/python3.11/site-packages (from streamlit) (9.4.0)\n",
            "Requirement already satisfied: protobuf<5,>=3.20 in /Users/smit/anaconda3/lib/python3.11/site-packages (from streamlit) (3.20.3)\n",
            "Requirement already satisfied: pyarrow>=6.0 in /Users/smit/anaconda3/lib/python3.11/site-packages (from streamlit) (11.0.0)\n",
            "Requirement already satisfied: python-dateutil<3,>=2.7.3 in /Users/smit/anaconda3/lib/python3.11/site-packages (from streamlit) (2.8.2)\n",
            "Requirement already satisfied: requests<3,>=2.27 in /Users/smit/anaconda3/lib/python3.11/site-packages (from streamlit) (2.31.0)\n",
            "Requirement already satisfied: rich<14,>=10.14.0 in /Users/smit/anaconda3/lib/python3.11/site-packages (from streamlit) (13.7.0)\n",
            "Requirement already satisfied: tenacity<9,>=8.1.0 in /Users/smit/anaconda3/lib/python3.11/site-packages (from streamlit) (8.2.2)\n",
            "Requirement already satisfied: toml<2,>=0.10.1 in /Users/smit/anaconda3/lib/python3.11/site-packages (from streamlit) (0.10.2)\n",
            "Requirement already satisfied: typing-extensions<5,>=4.3.0 in /Users/smit/anaconda3/lib/python3.11/site-packages (from streamlit) (4.9.0)\n",
            "Requirement already satisfied: tzlocal<6,>=1.1 in /Users/smit/anaconda3/lib/python3.11/site-packages (from streamlit) (5.2)\n",
            "Requirement already satisfied: validators<1,>=0.2 in /Users/smit/anaconda3/lib/python3.11/site-packages (from streamlit) (0.22.0)\n",
            "Requirement already satisfied: gitpython!=3.1.19,<4,>=3.0.7 in /Users/smit/anaconda3/lib/python3.11/site-packages (from streamlit) (3.1.40)\n",
            "Requirement already satisfied: pydeck<1,>=0.8.0b4 in /Users/smit/anaconda3/lib/python3.11/site-packages (from streamlit) (0.8.1b0)\n",
            "Requirement already satisfied: tornado<7,>=6.0.3 in /Users/smit/anaconda3/lib/python3.11/site-packages (from streamlit) (6.3.2)\n",
            "Requirement already satisfied: jinja2 in /Users/smit/anaconda3/lib/python3.11/site-packages (from altair<6,>=4.0->streamlit) (3.1.2)\n",
            "Requirement already satisfied: jsonschema>=3.0 in /Users/smit/anaconda3/lib/python3.11/site-packages (from altair<6,>=4.0->streamlit) (4.17.3)\n",
            "Requirement already satisfied: toolz in /Users/smit/anaconda3/lib/python3.11/site-packages (from altair<6,>=4.0->streamlit) (0.12.0)\n",
            "Requirement already satisfied: gitdb<5,>=4.0.1 in /Users/smit/anaconda3/lib/python3.11/site-packages (from gitpython!=3.1.19,<4,>=3.0.7->streamlit) (4.0.11)\n",
            "Requirement already satisfied: zipp>=0.5 in /Users/smit/anaconda3/lib/python3.11/site-packages (from importlib-metadata<7,>=1.4->streamlit) (3.11.0)\n",
            "Requirement already satisfied: pytz>=2020.1 in /Users/smit/anaconda3/lib/python3.11/site-packages (from pandas<3,>=1.3.0->streamlit) (2023.3.post1)\n",
            "Requirement already satisfied: six>=1.5 in /Users/smit/anaconda3/lib/python3.11/site-packages (from python-dateutil<3,>=2.7.3->streamlit) (1.16.0)\n",
            "Requirement already satisfied: charset-normalizer<4,>=2 in /Users/smit/anaconda3/lib/python3.11/site-packages (from requests<3,>=2.27->streamlit) (2.0.4)\n",
            "Requirement already satisfied: idna<4,>=2.5 in /Users/smit/anaconda3/lib/python3.11/site-packages (from requests<3,>=2.27->streamlit) (3.4)\n",
            "Requirement already satisfied: urllib3<3,>=1.21.1 in /Users/smit/anaconda3/lib/python3.11/site-packages (from requests<3,>=2.27->streamlit) (1.26.16)\n",
            "Requirement already satisfied: certifi>=2017.4.17 in /Users/smit/anaconda3/lib/python3.11/site-packages (from requests<3,>=2.27->streamlit) (2023.7.22)\n",
            "Requirement already satisfied: markdown-it-py>=2.2.0 in /Users/smit/anaconda3/lib/python3.11/site-packages (from rich<14,>=10.14.0->streamlit) (2.2.0)\n",
            "Requirement already satisfied: pygments<3.0.0,>=2.13.0 in /Users/smit/anaconda3/lib/python3.11/site-packages (from rich<14,>=10.14.0->streamlit) (2.15.1)\n",
            "Requirement already satisfied: smmap<6,>=3.0.1 in /Users/smit/anaconda3/lib/python3.11/site-packages (from gitdb<5,>=4.0.1->gitpython!=3.1.19,<4,>=3.0.7->streamlit) (5.0.1)\n",
            "Requirement already satisfied: MarkupSafe>=2.0 in /Users/smit/anaconda3/lib/python3.11/site-packages (from jinja2->altair<6,>=4.0->streamlit) (2.1.1)\n",
            "Requirement already satisfied: attrs>=17.4.0 in /Users/smit/anaconda3/lib/python3.11/site-packages (from jsonschema>=3.0->altair<6,>=4.0->streamlit) (22.1.0)\n",
            "Requirement already satisfied: pyrsistent!=0.17.0,!=0.17.1,!=0.17.2,>=0.14.0 in /Users/smit/anaconda3/lib/python3.11/site-packages (from jsonschema>=3.0->altair<6,>=4.0->streamlit) (0.18.0)\n",
            "Requirement already satisfied: mdurl~=0.1 in /Users/smit/anaconda3/lib/python3.11/site-packages (from markdown-it-py>=2.2.0->rich<14,>=10.14.0->streamlit) (0.1.0)\n",
            "Requirement already satisfied: pyngrok in /Users/smit/anaconda3/lib/python3.11/site-packages (7.1.6)\n",
            "Requirement already satisfied: PyYAML>=5.1 in /Users/smit/anaconda3/lib/python3.11/site-packages (from pyngrok) (6.0)\n",
            "Requirement already satisfied: graphviz in /Users/smit/anaconda3/lib/python3.11/site-packages (0.20.3)\n"
          ]
        }
      ],
      "source": [
        "!pip install streamlit\n",
        "!pip install pyngrok\n",
        "!pip install graphviz"
      ]
    },
    {
      "cell_type": "code",
      "execution_count": 1,
      "metadata": {
        "colab": {
          "base_uri": "https://localhost:8080/"
        },
        "id": "KgXufggqMfia",
        "outputId": "46c86d69-77d1-4523-8618-20a70583d3e2"
      },
      "outputs": [
        {
          "name": "stdout",
          "output_type": "stream",
          "text": [
            "Overwriting sim1.py\n"
          ]
        }
      ],
      "source": [
        "%%writefile sim1.py\n",
        "import streamlit as st\n",
        "# CONVERT DFA TO REGEX\n",
        "import graphviz as gv\n",
        "import json\n",
        "import sys\n",
        "\n",
        "def join(string1, string2):\n",
        "    if string1 == '$':\n",
        "        return string2\n",
        "    if string2 == '$':\n",
        "        return string1\n",
        "    return string1 + string2\n",
        "\n",
        "\n",
        "# remove dead states\n",
        "\n",
        "def resolve_dead(delta, DFA):\n",
        "    check = {}\n",
        "    for state in DFA['states']:\n",
        "        check.update({state: False})\n",
        "    for state in DFA['start_states']:\n",
        "        check[state] = True\n",
        "    for edge in delta:\n",
        "        check[edge[2]] = True\n",
        "    return [edge for edge in delta if check[edge[0]]], [state for state in check if check[state]]\n",
        "\n",
        "\n",
        "# simplifty parallel edges\n",
        "\n",
        "def resolve_parallel(delta):\n",
        "    hist = []\n",
        "    n = len(delta)\n",
        "    for i in range(n):\n",
        "        for j in range(i+1, n):\n",
        "            if delta[i][0] == delta[j][0] and delta[i][2] == delta[j][2]:\n",
        "                new_edge = [\n",
        "                    delta[i][0], '(' + delta[i][1] + '+' + delta[j][1] + ')', delta[i][2]]\n",
        "                delta.remove(delta[j])\n",
        "                delta.append(new_edge)\n",
        "                hist.append(delta[i])\n",
        "                i += 1\n",
        "    for old_edge in hist:\n",
        "        if old_edge in delta:\n",
        "            delta.remove(old_edge)\n",
        "    return delta\n",
        "\n",
        "\n",
        "# removing self-loops\n",
        "\n",
        "def resolve_selfloops(delta):\n",
        "    loops = []\n",
        "    for edge in delta[:]:\n",
        "        if edge[0] == edge[2]:\n",
        "            loops.append(edge)\n",
        "            delta.remove(edge)\n",
        "    for loop in loops:\n",
        "        for i, edge in enumerate(delta):\n",
        "            if loop[0] == edge[0]:\n",
        "                delta[i][1] = join('(' + loop[1] + ')*', edge[1])\n",
        "    return delta\n",
        "\n",
        "# Removes a state from the DFA.\n",
        "\n",
        "def remove_state(state, delta):\n",
        "    incoming = [edge for edge in delta if edge[2] == state]\n",
        "    outgoing = [edge for edge in delta if edge[0] == state]\n",
        "    for edge in (incoming + outgoing):\n",
        "        delta.remove(edge)\n",
        "    for inedge in incoming:\n",
        "        for outedge in outgoing:\n",
        "            edge = [inedge[0], join(inedge[1], outedge[1]), outedge[2]]\n",
        "            delta.append(edge)\n",
        "    delta = resolve_parallel(delta)\n",
        "    delta = resolve_selfloops(delta)\n",
        "    return delta\n",
        "\n",
        "# Converts a DFA to a regular expression\n",
        "\n",
        "def dfatoregex(DFA):\n",
        "    delta = DFA['transition_function'].copy()\n",
        "\n",
        "    # STEP ZERO: remove dead states\n",
        "\n",
        "    delta, valid_states = resolve_dead(delta, DFA)\n",
        "\n",
        "    # STEP ONE: NEW INITIAL AND FINAL STATES\n",
        "\n",
        "    start = 'Qs'\n",
        "    final = 'Qf'\n",
        "\n",
        "    for s in DFA['start_states']:\n",
        "        delta.append([start, '$', s])\n",
        "    for f in DFA['final_states']:\n",
        "        delta.append([f, '$', final])\n",
        "\n",
        "    # STEP TWO: simplify parallel edges\n",
        "\n",
        "    delta = resolve_parallel(delta)\n",
        "\n",
        "    # STEP THREE: removing self-loops\n",
        "\n",
        "    delta = resolve_selfloops(delta)\n",
        "\n",
        "    for state in valid_states:\n",
        "        delta = remove_state(state, delta)\n",
        "\n",
        "    # regex = {'regex': delta[0][1]}\n",
        "    # output = json.dumps(regex, indent=4)\n",
        "    return delta[0][1]\n",
        "\n",
        "def visualize_finite_automata(data):\n",
        "    states = data['states']\n",
        "    letters = data['letters']\n",
        "    transitions = data['transition_function']\n",
        "    start_states = data['start_states']\n",
        "    final_states = data['final_states']\n",
        "\n",
        "    # Convert final state 2D list to comma-separated string\n",
        "    for i, state in enumerate(final_states):\n",
        "        if isinstance(state, list):\n",
        "            final_states[i] = \",\".join(state)\n",
        "            \n",
        "    # Rename 2D array of states as 1 state\n",
        "    for i, state in enumerate(states):\n",
        "        if isinstance(state, list):\n",
        "            states[i] = \",\".join(state)\n",
        "\n",
        "    # Rename 2D array of states as 1 state in transition_function\n",
        "    for i, transition in enumerate(transitions):\n",
        "        if isinstance(transition[0], list):\n",
        "            transitions[i][0] = \",\".join(transition[0])\n",
        "        if isinstance(transition[2], list):\n",
        "            transitions[i][2] = \",\".join(transition[2])\n",
        "\n",
        "    # Initialize the graph\n",
        "    graph = gv.Digraph(format='svg')\n",
        "    graph.attr(rankdir='LR')\n",
        "\n",
        "    # Add nodes\n",
        "    for state in states:\n",
        "        if state in final_states:\n",
        "            graph.node(state, shape='doublecircle')\n",
        "        else:\n",
        "            graph.node(state)\n",
        "\n",
        "    # Add edges\n",
        "    for transition in transitions:\n",
        "        start_state, letter, end_state = transition\n",
        "        if letter == \"$\":\n",
        "            graph.edge(start_state, end_state, label=\"ε\")\n",
        "        else:\n",
        "            graph.edge(start_state, end_state, label=letter)\n",
        "\n",
        "    # Return the graph object\n",
        "    return graph\n",
        "\n",
        "# Set the page width to a high value\n",
        "st.set_page_config(page_title=\"DFA to REGEX Converter\", layout=\"wide\", initial_sidebar_state=\"collapsed\")\n",
        "\n",
        "# Streamlit app\n",
        "st.title(\"DFA to REGEX Converter\")\n",
        "\n",
        "with st.sidebar:\n",
        "    st.header(\"Input\")\n",
        "    file1 = st.file_uploader(\"Upload JSON file for Given DFA\", type=[\"json\"])\n",
        "\n",
        "if file1 is not None:\n",
        "    # Load JSON data\n",
        "    data1 = json.load(file1)\n",
        "    regex_pattern=dfatoregex(data1)\n",
        "\n",
        "    # Display the finite automata diagrams side by side\n",
        "    col1, col2 = st.columns(2)\n",
        "\n",
        "    # Create the graphs\n",
        "    graph1 = visualize_finite_automata(data1)\n",
        "\n",
        "    # Display the graphs in the columns\n",
        "    with col1:\n",
        "        st.header(\"Input (DFA)\")\n",
        "        st.graphviz_chart(graph1, use_container_width=True)\n",
        "    with col2:\n",
        "        st.header(\"Output (REGEX of Given DFA)\")\n",
        "        # regex_pattern = \"(1((0+1))**+00((0+1))**)\"\n",
        "        escaped_pattern = regex_pattern.replace(\"*\", \"<sup>&#42;</sup>\")\n",
        "        st.markdown(f\"<code style='background-color: white; font-size: 20px'>{escaped_pattern}</code>\", unsafe_allow_html=True)\n",
        "\n"
      ]
    },
    {
      "cell_type": "code",
      "execution_count": 2,
      "metadata": {
        "colab": {
          "base_uri": "https://localhost:8080/"
        },
        "id": "BfSg-11eNi_W",
        "outputId": "44a6865a-0fa0-4ff0-e131-ac29ecaf2f87"
      },
      "outputs": [
        {
          "name": "stdout",
          "output_type": "stream",
          "text": [
            "DFAtoRegex_demo.mp4\n",
            "THOC_Innovative_Assignment(DFAtoRegex).ipynb\n",
            "input.json\n",
            "sim1.py\n"
          ]
        }
      ],
      "source": [
        "!ls"
      ]
    },
    {
      "cell_type": "code",
      "execution_count": 3,
      "metadata": {
        "colab": {
          "base_uri": "https://localhost:8080/"
        },
        "id": "oUPDrTbNNmKx",
        "outputId": "d40c5c43-04f4-4396-eaf8-79c3175a8dff"
      },
      "outputs": [
        {
          "name": "stdout",
          "output_type": "stream",
          "text": [
            "Authtoken saved to configuration file: /Users/smit/Library/Application Support/ngrok/ngrok.yml\n"
          ]
        }
      ],
      "source": [
        "!ngrok authtoken XXXXX"
      ]
    },
    {
      "cell_type": "code",
      "execution_count": 4,
      "metadata": {
        "id": "MPD5SgxnNme7"
      },
      "outputs": [
        {
          "name": "stdout",
          "output_type": "stream",
          "text": [
            "ngrok - tunnel local ports to public URLs and inspect traffic\n",
            "\n",
            "USAGE:\n",
            "  ngrok [command] [flags]\n",
            "\n",
            "AUTHOR:\n",
            "  ngrok - <support@ngrok.com>\n",
            "\n",
            "COMMANDS: \n",
            "  config          update or migrate ngrok's configuration file\n",
            "  http            start an HTTP tunnel\n",
            "  tcp             start a TCP tunnel\n",
            "  tunnel          start a tunnel for use with a tunnel-group backend\n",
            "\n",
            "EXAMPLES: \n",
            "  ngrok http 80                                                 # secure public URL for port 80 web server\n",
            "  ngrok http --domain baz.ngrok.dev 8080                        # port 8080 available at baz.ngrok.dev\n",
            "  ngrok tcp 22                                                  # tunnel arbitrary TCP traffic to port 22\n",
            "  ngrok http 80 --oauth=google --oauth-allow-email=foo@foo.com  # secure your app with oauth\n",
            "\n",
            "Paid Features: \n",
            "  ngrok http 80 --domain mydomain.com                           # run ngrok with your own custom domain\n",
            "  ngrok http 80 --allow-cidr 2600:8c00::a03c:91ee:fe69:9695/32  # run ngrok with IP policy restrictions\n",
            "  Upgrade your account at https://dashboard.ngrok.com/billing/subscription to access paid features\n",
            "\n",
            "Upgrade your account at https://dashboard.ngrok.com/billing/subscription to access paid features\n",
            "\n",
            "Flags:\n",
            "  -h, --help      help for ngrok\n",
            "\n",
            "Use \"ngrok [command] --help\" for more information about a command.\n",
            "\n",
            "PYNGROK VERSION:\n",
            "   7.1.6\n"
          ]
        }
      ],
      "source": [
        "!ngrok"
      ]
    },
    {
      "cell_type": "code",
      "execution_count": 5,
      "metadata": {
        "id": "qZKUX2ALNosU"
      },
      "outputs": [],
      "source": [
        "from pyngrok import ngrok"
      ]
    },
    {
      "cell_type": "code",
      "execution_count": 6,
      "metadata": {
        "id": "3ggAi0TPNrJL"
      },
      "outputs": [],
      "source": [
        "!pgrep streamlit"
      ]
    },
    {
      "cell_type": "code",
      "execution_count": 7,
      "metadata": {
        "colab": {
          "background_save": true
        },
        "id": "lHDWywdyNsmS"
      },
      "outputs": [
        {
          "name": "stdout",
          "output_type": "stream",
          "text": [
            "\u001b[0m\n",
            "\u001b[34m\u001b[1m  You can now view your Streamlit app in your browser.\u001b[0m\n",
            "\u001b[0m\n",
            "\u001b[34m  Local URL: \u001b[0m\u001b[1mhttp://localhost:8501\u001b[0m\n",
            "\u001b[34m  Network URL: \u001b[0m\u001b[1mhttp://192.168.0.101:8501\u001b[0m\n",
            "\u001b[0m\n",
            "\u001b[1G\u001b[0JNeed to install the following packages:\n",
            "localtunnel@2.0.2\n",
            "Ok to proceed? (y) \u001b[20G\u001b[37;40mnpm\u001b[0m \u001b[0m\u001b[31;40mERR!\u001b[0m\u001b[35m\u001b[0m canceled\n",
            "\u001b[0m\n",
            "\u001b[37;40mnpm\u001b[0m \u001b[0m\u001b[31;40mERR!\u001b[0m\u001b[35m\u001b[0m A complete log of this run can be found in: /Users/smit/.npm/_logs/2024-03-28T19_10_14_076Z-debug-0.log\n",
            "\u001b[0m"
          ]
        }
      ],
      "source": [
        "!streamlit run sim1.py & npx localtunnel --port 8501"
      ]
    },
    {
      "cell_type": "code",
      "execution_count": null,
      "metadata": {},
      "outputs": [],
      "source": []
    }
  ],
  "metadata": {
    "colab": {
      "provenance": []
    },
    "kernelspec": {
      "display_name": "Python 3",
      "name": "python3"
    },
    "language_info": {
      "codemirror_mode": {
        "name": "ipython",
        "version": 3
      },
      "file_extension": ".py",
      "mimetype": "text/x-python",
      "name": "python",
      "nbconvert_exporter": "python",
      "pygments_lexer": "ipython3",
      "version": "3.11.5"
    }
  },
  "nbformat": 4,
  "nbformat_minor": 0
}
